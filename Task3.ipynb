{
 "cells": [
  {
   "cell_type": "code",
   "execution_count": 2,
   "id": "fbcdd0fc",
   "metadata": {},
   "outputs": [],
   "source": [
    "import pandas as pd\n",
    "import numpy as np\n",
    "import matplotlib.pyplot as plt\n",
    "import seaborn as sns\n",
    "from sklearn.preprocessing import StandardScaler\n",
    "from sklearn.cluster import KMeans\n",
    "from sklearn.decomposition import PCA\n",
    "from sklearn.metrics import silhouette_score"
   ]
  },
  {
   "cell_type": "code",
   "execution_count": 13,
   "id": "17d448ee",
   "metadata": {},
   "outputs": [
    {
     "name": "stdout",
     "output_type": "stream",
     "text": [
      "    CustomerID  Age  Annual Income  Spending Score\n",
      "0            1   19          15000              39\n",
      "1            2   21          18000              81\n",
      "2            3   20          21000               6\n",
      "3            4   23          26000              77\n",
      "4            5   31          40000              40\n",
      "5            6   22          27000              76\n",
      "6            7   35          58000              50\n",
      "7            8   40          60000              35\n",
      "8            9   50          72000              80\n",
      "9           10   42          54000              20\n",
      "10          11   36          50000              65\n",
      "11          12   25          33000              85\n",
      "12          13   28          32000              90\n",
      "13          14   45          59000              30\n",
      "14          15   49          66000              70\n",
      "15          16   30          37000              85\n",
      "16          17   24          25000              95\n",
      "17          18   29          28000              60\n",
      "18          19   48          62000              25\n",
      "19          20   38          52000              45\n"
     ]
    }
   ],
   "source": [
    "# Step 1: Load the Dataset\n",
    "df = pd.read_csv(\"customer_data.csv\")\n",
    "print(df)"
   ]
  },
  {
   "cell_type": "code",
   "execution_count": 4,
   "id": "2dc0eb5b",
   "metadata": {},
   "outputs": [
    {
     "name": "stdout",
     "output_type": "stream",
     "text": [
      "Dataset Shape: (20, 4)\n",
      "Missing Values:\n",
      " CustomerID        0\n",
      "Age               0\n",
      "Annual Income     0\n",
      "Spending Score    0\n",
      "dtype: int64\n",
      "Duplicates: 0\n",
      "Data Types:\n",
      " CustomerID        int64\n",
      "Age               int64\n",
      "Annual Income     int64\n",
      "Spending Score    int64\n",
      "dtype: object\n",
      "Summary Statistics:\n",
      "        CustomerID        Age  Annual Income  Spending Score\n",
      "count    20.00000  20.000000      20.000000       20.000000\n",
      "mean     10.50000  32.750000   41750.000000       57.700000\n",
      "std       5.91608  10.284761   17731.550827       26.370039\n",
      "min       1.00000  19.000000   15000.000000        6.000000\n",
      "25%       5.75000  23.750000   26750.000000       38.000000\n",
      "50%      10.50000  30.500000   38500.000000       62.500000\n",
      "75%      15.25000  40.500000   58250.000000       80.250000\n",
      "max      20.00000  50.000000   72000.000000       95.000000\n"
     ]
    }
   ],
   "source": [
    "# Inspecting the dataset\n",
    "print(\"Dataset Shape:\", df.shape)\n",
    "print(\"Missing Values:\\n\", df.isnull().sum())\n",
    "print(\"Duplicates:\", df.duplicated().sum())\n",
    "print(\"Data Types:\\n\", df.dtypes)\n",
    "print(\"Summary Statistics:\\n\", df.describe())"
   ]
  },
  {
   "cell_type": "code",
   "execution_count": 5,
   "id": "eca21865",
   "metadata": {},
   "outputs": [],
   "source": [
    "# Step 2: Data Preprocessing\n",
    "scaler = StandardScaler()\n",
    "df_scaled = scaler.fit_transform(df[['Age', 'Annual Income', 'Spending Score']])"
   ]
  },
  {
   "cell_type": "code",
   "execution_count": 7,
   "id": "7c52111f",
   "metadata": {},
   "outputs": [
    {
     "name": "stderr",
     "output_type": "stream",
     "text": [
      "C:\\Users\\Santhosh Reddy\\anaconda3\\lib\\site-packages\\sklearn\\cluster\\_kmeans.py:881: UserWarning: KMeans is known to have a memory leak on Windows with MKL, when there are less chunks than available threads. You can avoid it by setting the environment variable OMP_NUM_THREADS=1.\n",
      "  warnings.warn(\n"
     ]
    },
    {
     "data": {
      "image/png": "[encoded data removed]",
      "text/plain": [
       "<Figure size 576x360 with 1 Axes>"
      ]
     },
     "metadata": {
      "needs_background": "light"
     },
     "output_type": "display_data"
    }
   ],
   "source": [
    "# Step 3: Determine the optimal number of clusters using Elbow Method\n",
    "wcss = []\n",
    "for i in range(1, 11):\n",
    "    kmeans = KMeans(n_clusters=i, random_state=42, n_init=10)\n",
    "    kmeans.fit(df_scaled)\n",
    "    wcss.append(kmeans.inertia_)\n",
    "\n",
    "plt.figure(figsize=(8, 5))\n",
    "plt.plot(range(1, 11), wcss, marker='o', linestyle='--')\n",
    "plt.xlabel(\"Number of Clusters\")\n",
    "plt.ylabel(\"WCSS\")\n",
    "plt.title(\"Elbow Method for Optimal Clusters\")\n",
    "plt.show()"
   ]
  },
  {
   "cell_type": "code",
   "execution_count": 8,
   "id": "880d0526",
   "metadata": {},
   "outputs": [],
   "source": [
    "# Choosing optimal clusters (e.g., based on elbow method)\n",
    "k_optimal = 4  # Change based on elbow point\n",
    "kmeans = KMeans(n_clusters=k_optimal, random_state=42, n_init=10)\n",
    "df['Cluster'] = kmeans.fit_predict(df_scaled)"
   ]
  },
  {
   "cell_type": "code",
   "execution_count": 9,
   "id": "84f3517b",
   "metadata": {},
   "outputs": [
    {
     "data": {
      "image/png": "[encoded data removed]",
      "text/plain": [
       "<Figure size 720x432 with 1 Axes>"
      ]
     },
     "metadata": {
      "needs_background": "light"
     },
     "output_type": "display_data"
    }
   ],
   "source": [
    "# Step 4: Visualization using PCA\n",
    "pca = PCA(n_components=2)\n",
    "df_pca = pca.fit_transform(df_scaled)\n",
    "df['PCA1'] = df_pca[:, 0]\n",
    "df['PCA2'] = df_pca[:, 1]\n",
    "\n",
    "plt.figure(figsize=(10, 6))\n",
    "sns.scatterplot(x='PCA1', y='PCA2', hue='Cluster', palette='viridis', data=df, s=100)\n",
    "plt.title(\"Customer Segmentation Clusters (PCA Reduced)\")\n",
    "plt.show()"
   ]
  },
  {
   "cell_type": "code",
   "execution_count": 10,
   "id": "da1428ca",
   "metadata": {},
   "outputs": [
    {
     "name": "stdout",
     "output_type": "stream",
     "text": [
      "Silhouette Score: 0.5357563690906715\n"
     ]
    }
   ],
   "source": [
    "# Silhouette Score\n",
    "t_score = silhouette_score(df_scaled, df['Cluster'])\n",
    "print(\"Silhouette Score:\", t_score)\n"
   ]
  },
  {
   "cell_type": "code",
   "execution_count": 11,
   "id": "c94b9610",
   "metadata": {},
   "outputs": [
    {
     "name": "stdout",
     "output_type": "stream",
     "text": [
      "Cluster Insights:\n",
      "- Target high spenders for loyalty programs\n",
      "- Create personalized marketing for each segment\n",
      "- Offer premium products to high-income customers\n"
     ]
    }
   ],
   "source": [
    "# Save the clustered dataset\n",
    "df.to_csv(\"customer_segmented.csv\", index=False)\n",
    "\n",
    "# Recommendations\n",
    "print(\"Cluster Insights:\")\n",
    "print(\"- Target high spenders for loyalty programs\")\n",
    "print(\"- Create personalized marketing for each segment\")\n",
    "print(\"- Offer premium products to high-income customers\")\n"
   ]
  },
  {
   "cell_type": "code",
   "execution_count": 12,
   "id": "b151b031",
   "metadata": {},
   "outputs": [
    {
     "name": "stdout",
     "output_type": "stream",
     "text": [
      "    CustomerID  Age  Annual Income  Spending Score  Cluster      PCA1  \\\n",
      "0            1   19          15000              39        2 -1.741655   \n",
      "1            2   21          18000              81        1 -1.991489   \n",
      "2            3   20          21000               6        2 -1.047557   \n",
      "3            4   23          26000              77        1 -1.498302   \n",
      "4            5   31          40000              40        0  0.025378   \n",
      "5            6   22          27000              76        1 -1.514788   \n",
      "6            7   35          58000              50        0  0.874773   \n",
      "7            8   40          60000              35        0  1.467821   \n",
      "8            9   50          72000              80        3  2.070216   \n",
      "9           10   42          54000              20        0  1.548116   \n",
      "10          11   36          50000              65        0  0.452213   \n",
      "11          12   25          33000              85        1 -1.187118   \n",
      "12          13   28          32000              90        1 -1.083787   \n",
      "13          14   45          59000              30        0  1.824994   \n",
      "14          15   49          66000              70        3  1.889032   \n",
      "15          16   30          37000              85        1 -0.695265   \n",
      "16          17   24          25000              95        1 -1.684596   \n",
      "17          18   29          28000              60        1 -0.814118   \n",
      "18          19   48          62000              25        0  2.203065   \n",
      "19          20   38          52000              45        0  0.903065   \n",
      "\n",
      "        PCA2  \n",
      "0   1.327136  \n",
      "1  -0.308705  \n",
      "2   2.449685  \n",
      "3  -0.306878  \n",
      "4   0.714464  \n",
      "5  -0.262376  \n",
      "6   0.025325  \n",
      "7   0.451459  \n",
      "8  -1.578536  \n",
      "9   1.044488  \n",
      "10 -0.445644  \n",
      "11 -0.736265  \n",
      "12 -0.970098  \n",
      "13  0.546703  \n",
      "14 -1.108832  \n",
      "15 -0.891838  \n",
      "16 -0.980875  \n",
      "17  0.172707  \n",
      "18  0.630625  \n",
      "19  0.227456  \n"
     ]
    }
   ],
   "source": [
    "print(df)"
   ]
  },
  {
   "cell_type": "code",
   "execution_count": null,
   "id": "08a0a15c",
   "metadata": {},
   "outputs": [],
   "source": []
  }
 ],
 "metadata": {
  "kernelspec": {
   "display_name": "Python 3",
   "language": "python",
   "name": "python3"
  },
  "language_info": {
   "codemirror_mode": {
    "name": "ipython",
    "version": 3
   },
   "file_extension": ".py",
   "mimetype": "text/x-python",
   "name": "python",
   "nbconvert_exporter": "python",
   "pygments_lexer": "ipython3",
   "version": "3.8.8"
  }
 },
 "nbformat": 4,
 "nbformat_minor": 5
}
